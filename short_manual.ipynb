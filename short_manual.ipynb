{
 "cells": [
  {
   "cell_type": "markdown",
   "metadata": {
    "slideshow": {
     "slide_type": "slide"
    }
   },
   "source": [
    "# Виртуальные окружения Python через Conda\n",
    "# (для ОС Windows 10)\n",
    "### *краткая инструкция от Артёма Мизюка*"
   ]
  },
  {
   "cell_type": "markdown",
   "metadata": {
    "slideshow": {
     "slide_type": "slide"
    }
   },
   "source": [
    "## 1. Заходим на сайт [conda.io](https://conda.io/miniconda)\n",
    "\n",
    "\n",
    "<img src=\"./pngs/vbox_0000.png\" width=\"70%\"/>"
   ]
  },
  {
   "cell_type": "markdown",
   "metadata": {
    "slideshow": {
     "slide_type": "slide"
    }
   },
   "source": [
    "## 2. Выберем для наших работ Python версии 3\n",
    "\n",
    "<img src=\"./pngs/vbox_0001.png\" width=\"70%\"/>"
   ]
  },
  {
   "cell_type": "markdown",
   "metadata": {
    "slideshow": {
     "slide_type": "slide"
    }
   },
   "source": [
    "## 3. Если вы не знаете разрядность вашей ОС выполним команду (Win+R → cmd)\n",
    "```bash\n",
    "wmic os get osarchitecture\n",
    "```\n",
    "\n",
    "<img src=\"./pngs/vbox_0002.png\" width=\"70%\"/>"
   ]
  },
  {
   "cell_type": "markdown",
   "metadata": {
    "slideshow": {
     "slide_type": "slide"
    }
   },
   "source": [
    "## 4. Качаем нужную версию (в моем случае 32-разрядную)\n",
    "\n",
    "<img src=\"./pngs/vbox_0003.png\" width=\"70%\"/>"
   ]
  },
  {
   "cell_type": "markdown",
   "metadata": {
    "slideshow": {
     "slide_type": "slide"
    }
   },
   "source": [
    "## 5. Запускаем скачанное приложение\n",
    "\n",
    "<img src=\"./pngs/vbox_0004.png\" width=\"70%\"/>"
   ]
  },
  {
   "cell_type": "markdown",
   "metadata": {
    "slideshow": {
     "slide_type": "slide"
    }
   },
   "source": [
    "## 6. Следуем требованиям установщика (рекомендованные настройки на картинках)\n",
    "\n",
    "<img src=\"./pngs/vbox_0005_1.png\" width=\"35%\"/> <img src=\"./pngs/vbox_0005_2.png\" width=\"35%\"/>\n",
    "\n",
    "Для установки рекомендую путь \n",
    "```bash\n",
    "c:\\miniconda3\n",
    "```"
   ]
  },
  {
   "cell_type": "markdown",
   "metadata": {
    "slideshow": {
     "slide_type": "slide"
    }
   },
   "source": [
    "## 7. После установки ищем в меню Пуск Anaconda Promt \n",
    "## (не пугайтесь, это тоже командная строка)\n",
    "\n",
    "\n",
    "<img src=\"./pngs/vbox_0007.png\" width=\"70%\"/>\n"
   ]
  },
  {
   "cell_type": "markdown",
   "metadata": {
    "slideshow": {
     "slide_type": "slide"
    }
   },
   "source": [
    "## 8. **conda** – команда управления виртуальными окружениями\n",
    "#### (не пугайтесь, это тоже командная строка)\n",
    "\n",
    "<img src=\"./pngs/vbox_0008.png\" width=\"60%\"/>\n",
    "\n",
    "Проверьте результат команды, по умолчанию базовое окружение называется base\n",
    "```bash\n",
    "conda env list\n",
    "```"
   ]
  },
  {
   "cell_type": "markdown",
   "metadata": {
    "slideshow": {
     "slide_type": "subslide"
    }
   },
   "source": [
    "Создаем новое окружение командой\n",
    "```bash\n",
    "conda create -n satocean python=3 numpy scipy pandas xarray matplotlib cartopy\n",
    "```\n",
    "где \n",
    "* *satocean* - имя нашего окружения\n",
    "* *python=3* - явно указываем, что окружение работает на python3 (можем не указывать, так как установщик был для 3-й версии)\n",
    "* *numpy scipy pandas xarray matplotlib cartopy* - пакеты для научной работы"
   ]
  },
  {
   "cell_type": "markdown",
   "metadata": {
    "slideshow": {
     "slide_type": "slide"
    }
   },
   "source": [
    "## 9. Когда conda свяжется с облаком continuum analytics, она будет скачивать оттуда пакеты с зависимостями\n",
    "### т.е. во время установки вам нужно устойчивое интернет соединение\n",
    "##### *вам не нужно самим знать, какие пакеты надо ставить для выполнения всех зависимостей*\n",
    "\n",
    "<img src=\"./pngs/vbox_0009.png\" width=\"60%\"/>\n",
    "\n",
    "В конце установки будет написана инструкция как перейти и выйти из окружения\n",
    "\n",
    "Перейдем в окружение командой\n",
    "```bash\n",
    "conda activate satocean\n",
    "```\n",
    "##### *короткий ликбез \"зачем нужны виртуальные окружения\" будет на вводном занятии*"
   ]
  },
  {
   "cell_type": "markdown",
   "metadata": {
    "slideshow": {
     "slide_type": "slide"
    }
   },
   "source": [
    "## 10. Удобной интерактивной средой для анализа данных считается \n",
    "![](https://jupyter.org/assets/main-logo.svg)\n",
    "\n",
    "Установим его в нашем окружении satocean (видно по вводному слову) с помощью команды\n",
    "```bash\n",
    "(satocean) conda install jupyter jupyterlab notebook\n",
    "```\n",
    "<img src=\"./pngs/vbox_0010.png\" width=\"60%\"/>\n",
    "\n",
    "##### *опять же рассуждения на тему \"почему среда должна быть в браузере\" будет на вводном занятии*\n"
   ]
  },
  {
   "cell_type": "markdown",
   "metadata": {
    "slideshow": {
     "slide_type": "slide"
    }
   },
   "source": [
    "## 11. Аналогично соглашаемся с установкой зависимостей\n",
    "\n",
    "<img src=\"./pngs/vbox_0011.png\" width=\"60%\"/>\n"
   ]
  },
  {
   "cell_type": "markdown",
   "metadata": {
    "slideshow": {
     "slide_type": "slide"
    }
   },
   "source": [
    "## 12. Для запуска создадим папку notebooks* перейдем в нее и выполним\n",
    "#### * *(любое другое имя, которое удобно)*\n",
    "\n",
    "```bash\n",
    "(satocean) jupyter lab\n",
    "```\n",
    "<img src=\"./pngs/vbox_0013.png\" width=\"70%\"/>\n",
    "\n",
    "#### *Желательно иметь установленный Chrome, Firefox, Safari ... (Yandex тоже работает). С Edge могут быть проблемы*"
   ]
  },
  {
   "cell_type": "markdown",
   "metadata": {
    "slideshow": {
     "slide_type": "slide"
    }
   },
   "source": [
    "## 13. Создадим \"блокнот\" кликнув по кнопке\n",
    "\n",
    "<img src=\"./pngs/vbox_0015.png\" width=\"70%\"/>\n"
   ]
  },
  {
   "cell_type": "markdown",
   "metadata": {
    "slideshow": {
     "slide_type": "slide"
    }
   },
   "source": [
    "## 14. Выполним в \"блокноте\" тестовые комманды\n",
    "\n",
    "для выполнения кода внутри ячейки используйту сочетания *Shift+Enter* или *Ctrl+Enter*\n",
    "<img src=\"./pngs/vbox_0017.png\" width=\"70%\"/>\n"
   ]
  },
  {
   "cell_type": "markdown",
   "metadata": {
    "slideshow": {
     "slide_type": "slide"
    }
   },
   "source": [
    "## Если никаких ошибок по ходу выполнения описанных действий не возникло, значит всё хорошо\n",
    "## Окончательно проверим результат на вводном занятии 25.01.2019 (пятница)"
   ]
  }
 ],
 "metadata": {
  "kernelspec": {
   "display_name": "ocean",
   "language": "python",
   "name": "ocean"
  },
  "language_info": {
   "codemirror_mode": {
    "name": "ipython",
    "version": 3
   },
   "file_extension": ".py",
   "mimetype": "text/x-python",
   "name": "python",
   "nbconvert_exporter": "python",
   "pygments_lexer": "ipython3",
   "version": "3.6.7"
  }
 },
 "nbformat": 4,
 "nbformat_minor": 2
}
