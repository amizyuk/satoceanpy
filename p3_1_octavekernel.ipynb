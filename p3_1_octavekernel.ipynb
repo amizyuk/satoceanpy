{
 "cells": [
  {
   "cell_type": "markdown",
   "metadata": {},
   "source": [
    "# Вернемся к Matlab/Octave (Занятие 3_1 в Jupyter)"
   ]
  },
  {
   "cell_type": "code",
   "execution_count": 1,
   "metadata": {},
   "outputs": [],
   "source": [
    "close all\n",
    "clear all"
   ]
  },
  {
   "cell_type": "code",
   "execution_count": 2,
   "metadata": {},
   "outputs": [],
   "source": [
    "% octave specific function\n",
    "pkg load netcdf\n",
    "pkg load io\n",
    "pkg load statistics"
   ]
  },
  {
   "cell_type": "code",
   "execution_count": 3,
   "metadata": {},
   "outputs": [],
   "source": [
    "fname4='/home/mizyuk/DataW2/AO_MexicanGulf_by_Dop5/SST_Reinolds_7D_AO_MexicanGulf_all_auto.mat.nc'; % имя файла"
   ]
  },
  {
   "cell_type": "code",
   "execution_count": 4,
   "metadata": {},
   "outputs": [
    {
     "name": "stdout",
     "output_type": "stream",
     "text": [
      "ans =\n",
      "\n",
      "  scalar structure containing the fields:\n",
      "\n",
      "    Filename = /home/mizyuk/DataW2/AO_MexicanGulf_by_Dop5/SST_Reinolds_7D_AO_MexicanGulf_all_auto.mat.nc\n",
      "    Name = /\n",
      "    Dimensions =\n",
      "\n",
      "      1x3 struct array containing the fields:\n",
      "\n",
      "        Name\n",
      "        Length\n",
      "        Unlimited\n",
      "\n",
      "    Variables =\n",
      "\n",
      "      1x4 struct array containing the fields:\n",
      "\n",
      "        Name\n",
      "        Dimensions\n",
      "        Size\n",
      "        Datatype\n",
      "        Attributes\n",
      "        ChunkSize\n",
      "        FillValue\n",
      "        DeflateLevel\n",
      "        Shuffle\n",
      "        Checksum\n",
      "\n",
      "    Attributes =\n",
      "\n",
      "      1x5 struct array containing the fields:\n",
      "\n",
      "        Name\n",
      "        Value\n",
      "\n",
      "    Groups = [](0x0)\n",
      "    Format = netcdf4\n",
      "\n"
     ]
    }
   ],
   "source": [
    "ncinfo(fname4) % инфо к nc файлу"
   ]
  },
  {
   "cell_type": "markdown",
   "metadata": {},
   "source": [
    "загружаем перменные"
   ]
  },
  {
   "cell_type": "code",
   "execution_count": 5,
   "metadata": {},
   "outputs": [],
   "source": [
    "x=ncread(fname4,'lon'); % долгота\n",
    "y=ncread(fname4,'lat'); % широта\n",
    "d=ncread(fname4,'time'); % дата\n",
    "aa=ncread(fname4,'aa'); % массив температуры"
   ]
  },
  {
   "cell_type": "code",
   "execution_count": 6,
   "metadata": {},
   "outputs": [
    {
     "name": "stdout",
     "output_type": "stream",
     "text": [
      "ans =\n",
      "\n",
      "    56    72   476\n",
      "\n"
     ]
    }
   ],
   "source": [
    "size(aa)"
   ]
  },
  {
   "cell_type": "code",
   "execution_count": 7,
   "metadata": {},
   "outputs": [],
   "source": [
    "aa(aa==0)=nan; % 0all zeros to Nan (Not A Number)"
   ]
  },
  {
   "cell_type": "code",
   "execution_count": 8,
   "metadata": {},
   "outputs": [
    {
     "name": "stdout",
     "output_type": "stream",
     "text": [
      "ans = 1\n"
     ]
    }
   ],
   "source": [
    "picdir='Results/SST_Reinolds_7D/'; % название директории\n",
    "mkdir(picdir) % создаем директорию"
   ]
  },
  {
   "cell_type": "code",
   "execution_count": 9,
   "metadata": {},
   "outputs": [],
   "source": [
    "%% среднее за выбранный год\n",
    "dv=datevec(d); % дата переводится в вектор (год, месяц, число, день, час, минута)\n",
    "year=dv(:,1); % год\n",
    "\n",
    "yu1=2013; % будем строить за 2013\n",
    "\n",
    "inye=find(year==yu1); % ищем индекс даты год которой равен 2013\n",
    "aa1=aa(:,:,inye); % выбираем только эти индексы\n",
    "\n",
    "aam=nanmean(aa1,3); % среднее по времени (3-ая размерность)"
   ]
  },
  {
   "cell_type": "code",
   "execution_count": 10,
   "metadata": {},
   "outputs": [],
   "source": [
    "aam(aam<1)=nan;"
   ]
  },
  {
   "cell_type": "code",
   "execution_count": 11,
   "metadata": {},
   "outputs": [
    {
     "data": {
      "text/plain": [
       "'print' is a function from the file /usr/share/octave/4.2.2/m/plot/util/print.m\r\n",
       "\r\n",
       " -- print ()\r\n",
       " -- print (OPTIONS)\r\n",
       " -- print (FILENAME, OPTIONS)\r\n",
       " -- print (H, FILENAME, OPTIONS)\r\n",
       "     Print a plot, or save it to a file.\r\n",
       "\r\n",
       "     Both output formatted for printing (PDF and PostScript), and many\r\n",
       "     bitmapped and vector image formats are supported.\r\n",
       "\r\n",
       "     FILENAME defines the name of the output file.  If the filename has\r\n",
       "     no suffix, one is inferred from the specified device and appended\r\n",
       "     to the filename.  If no filename is specified, the output is sent\r\n",
       "     to the printer.\r\n",
       "\r\n",
       "     H specifies the handle of the figure to print.  If no handle is\r\n",
       "     specified the current figure is used.\r\n",
       "\r\n",
       "     For output to a printer, PostScript file, or PDF file, the paper\r\n",
       "     size is specified by the figure's 'papersize' property.  The\r\n",
       "     location and size of the image on the page are specified by the\r\n",
       "     figure's 'paperposition' property.  The orientation of the page is\r\n",
       "     specified by the figure's 'paperorientation' property.\r\n",
       "\r\n",
       "     The width and height of images are specified by the figure's\r\n",
       "     'paperposition(3:4)' property values.\r\n",
       "\r\n",
       "     The 'print' command supports many OPTIONS:\r\n",
       "\r\n",
       "     '-fH'\r\n",
       "          Specify the handle, H, of the figure to be printed.  The\r\n",
       "          default is the current figure.\r\n",
       "\r\n",
       "     '-PPRINTER'\r\n",
       "          Set the PRINTER name to which the plot is sent if no FILENAME\r\n",
       "          is specified.\r\n",
       "\r\n",
       "     '-GGHOSTSCRIPT_COMMAND'\r\n",
       "          Specify the command for calling Ghostscript.  For Unix and\r\n",
       "          Windows the defaults are \"gs\" and \"gswin32c\", respectively.\r\n",
       "\r\n",
       "     '-color'\r\n",
       "     '-mono'\r\n",
       "          Color or monochrome output.\r\n",
       "\r\n",
       "     '-solid'\r\n",
       "     '-dashed'\r\n",
       "          Force all lines to be solid or dashed, respectively.\r\n",
       "\r\n",
       "     '-portrait'\r\n",
       "     '-landscape'\r\n",
       "          Specify the orientation of the plot for printed output.  For\r\n",
       "          non-printed output the aspect ratio of the output corresponds\r\n",
       "          to the plot area defined by the \"paperposition\" property in\r\n",
       "          the orientation specified.  This option is equivalent to\r\n",
       "          changing the figure's \"paperorientation\" property.\r\n",
       "\r\n",
       "     '-TextAlphaBits=N'\r\n",
       "     '-GraphicsAlphaBits=N'\r\n",
       "          Octave is able to produce output for various printers,\r\n",
       "          bitmaps, and vector formats by using Ghostscript.  For bitmap\r\n",
       "          and printer output anti-aliasing is applied using\r\n",
       "          Ghostscript's TextAlphaBits and GraphicsAlphaBits options.\r\n",
       "          The default number of bits are 4 and 1 respectively.  Allowed\r\n",
       "          values for N are 1, 2, or 4.\r\n",
       "\r\n",
       "     '-dDEVICE'\r\n",
       "          The available output format is specified by the option DEVICE,\r\n",
       "          and is one of:\r\n",
       "\r\n",
       "          'ps'\r\n",
       "          'ps2'\r\n",
       "          'psc'\r\n",
       "          'psc2'\r\n",
       "               PostScript (level 1 and 2, mono and color).  The\r\n",
       "               OpenGL-based toolkits always generate PostScript level\r\n",
       "               3.0.\r\n",
       "\r\n",
       "          'eps'\r\n",
       "          'eps2'\r\n",
       "          'epsc'\r\n",
       "          'epsc2'\r\n",
       "               Encapsulated PostScript (level 1 and 2, mono and color).\r\n",
       "               The OpenGL-based toolkits always generate PostScript\r\n",
       "               level 3.0.\r\n",
       "\r\n",
       "          'pslatex'\r\n",
       "          'epslatex'\r\n",
       "          'pdflatex'\r\n",
       "          'pslatexstandalone'\r\n",
       "          'epslatexstandalone'\r\n",
       "          'pdflatexstandalone'\r\n",
       "               Generate a LaTeX file 'FILENAME.tex' for the text\r\n",
       "               portions of a plot and a file 'FILENAME.(ps|eps|pdf)' for\r\n",
       "               the remaining graphics.  The graphics file suffix\r\n",
       "               .ps|eps|pdf is determined by the specified device type.\r\n",
       "               The LaTeX file produced by the 'standalone' option can be\r\n",
       "               processed directly by LaTeX.  The file generated without\r\n",
       "               the 'standalone' option is intended to be included from\r\n",
       "               another LaTeX document.  In either case, the LaTeX file\r\n",
       "               contains an '\\includegraphics' command so that the\r\n",
       "               generated graphics file is automatically included when\r\n",
       "               the LaTeX file is processed.  The text that is written to\r\n",
       "               the LaTeX file contains the strings *exactly* as they\r\n",
       "               were specified in the plot.  If any special characters of\r\n",
       "               the TeX mode interpreter were used, the file must be\r\n",
       "               edited before LaTeX processing.  Specifically, the\r\n",
       "               special characters must be enclosed with dollar signs ('$\r\n",
       "               ... $'), and other characters that are recognized by\r\n",
       "               LaTeX may also need editing (.e.g., braces).  The\r\n",
       "               'pdflatex' device, and any of the 'standalone' formats,\r\n",
       "               are not available with the Gnuplot toolkit.\r\n",
       "\r\n",
       "          'epscairo'\r\n",
       "          'pdfcairo'\r\n",
       "          'epscairolatex'\r\n",
       "          'pdfcairolatex'\r\n",
       "          'epscairolatexstandalone'\r\n",
       "          'pdfcairolatexstandalone'\r\n",
       "               Generate Cairo based output when using the Gnuplot\r\n",
       "               graphics toolkit.  The 'epscairo' and 'pdfcairo' devices\r\n",
       "               are synonymous with the 'epsc' device.  The LaTeX\r\n",
       "               variants generate a LaTeX file, 'FILENAME.tex', for the\r\n",
       "               text portions of a plot, and an image file,\r\n",
       "               'FILENAME.(eps|pdf)', for the graph portion of the plot.\r\n",
       "               The 'standalone' variants behave as described for\r\n",
       "               'epslatexstandalone' above.\r\n",
       "\r\n",
       "          'ill'\r\n",
       "          'aifm'\r\n",
       "               Adobe Illustrator (Obsolete for Gnuplot versions > 4.2)\r\n",
       "\r\n",
       "          'canvas'\r\n",
       "               Javascript-based drawing on HTML5 canvas viewable in a\r\n",
       "               web browser (only available for the Gnuplot graphics\r\n",
       "               toolkit).\r\n",
       "\r\n",
       "          'cdr'\r\n",
       "          'corel'\r\n",
       "               CorelDraw\r\n",
       "\r\n",
       "          'dxf'\r\n",
       "               AutoCAD\r\n",
       "\r\n",
       "          'emf'\r\n",
       "          'meta'\r\n",
       "               Microsoft Enhanced Metafile\r\n",
       "\r\n",
       "          'fig'\r\n",
       "               XFig.  For the Gnuplot graphics toolkit, the additional\r\n",
       "               options '-textspecial' or '-textnormal' can be used to\r\n",
       "               control whether the special flag should be set for the\r\n",
       "               text in the figure.  (default is '-textnormal')\r\n",
       "\r\n",
       "          'gif'\r\n",
       "               GIF image (only available for the Gnuplot graphics\r\n",
       "               toolkit)\r\n",
       "\r\n",
       "          'hpgl'\r\n",
       "               HP plotter language\r\n",
       "\r\n",
       "          'jpg'\r\n",
       "          'jpeg'\r\n",
       "               JPEG image\r\n",
       "\r\n",
       "          'latex'\r\n",
       "               LaTeX picture environment (only available for the Gnuplot\r\n",
       "               graphics toolkit).\r\n",
       "\r\n",
       "          'mf'\r\n",
       "               Metafont\r\n",
       "\r\n",
       "          'png'\r\n",
       "               Portable network graphics\r\n",
       "\r\n",
       "          'pbm'\r\n",
       "               PBMplus\r\n",
       "\r\n",
       "          'pdf'\r\n",
       "               Portable document format\r\n",
       "\r\n",
       "     'svg'\r\n",
       "          Scalable vector graphics\r\n",
       "\r\n",
       "     'tikz'\r\n",
       "     'tikzstandalone'\r\n",
       "          Generate a LaTeX file using PGF/TikZ format.  The OpenGL-based\r\n",
       "          toolkits create a PGF file while Gnuplot creates a TikZ file.\r\n",
       "          The 'tikzstandalone' device produces a LaTeX document which\r\n",
       "          includes the TikZ file ('tikzstandalone' and is only available\r\n",
       "          for the Gnuplot graphics toolkit).\r\n",
       "\r\n",
       "          If the device is omitted, it is inferred from the file\r\n",
       "          extension, or if there is no filename it is sent to the\r\n",
       "          printer as PostScript.\r\n",
       "\r\n",
       "     '-dGHOSTSCRIPT_DEVICE'\r\n",
       "          Additional devices are supported by Ghostscript.  Some\r\n",
       "          examples are;\r\n",
       "\r\n",
       "          'pdfwrite'\r\n",
       "               Produces pdf output from eps\r\n",
       "\r\n",
       "          'ljet2p'\r\n",
       "               HP LaserJet IIP\r\n",
       "\r\n",
       "          'pcx24b'\r\n",
       "               24-bit color PCX file format\r\n",
       "\r\n",
       "          'ppm'\r\n",
       "               Portable Pixel Map file format\r\n",
       "\r\n",
       "          For a complete list, type 'system (\"gs -h\")' to see what\r\n",
       "          formats and devices are available.\r\n",
       "\r\n",
       "          When Ghostscript output is sent to a printer the size is\r\n",
       "          determined by the figure's \"papersize\" property.  When the\r\n",
       "          output is sent to a file the size is determined by the plot\r\n",
       "          box defined by the figure's \"paperposition\" property.\r\n",
       "\r\n",
       "     '-append'\r\n",
       "          Append PostScript or PDF output to a pre-existing file of the\r\n",
       "          same type.\r\n",
       "\r\n",
       "     '-rNUM'\r\n",
       "          Resolution of bitmaps in pixels per inch.  For both metafiles\r\n",
       "          and SVG the default is the screen resolution; for other\r\n",
       "          formats it is 150 dpi.  To specify screen resolution, use\r\n",
       "          \"-r0\".\r\n",
       "\r\n",
       "     '-loose'\r\n",
       "     '-tight'\r\n",
       "          Force a tight or loose bounding box for eps files.  The\r\n",
       "          default is loose.\r\n",
       "\r\n",
       "     '-PREVIEW'\r\n",
       "          Add a preview to eps files.  Supported formats are:\r\n",
       "\r\n",
       "          '-interchange'\r\n",
       "               Provide an interchange preview.\r\n",
       "\r\n",
       "          '-metafile'\r\n",
       "               Provide a metafile preview.\r\n",
       "\r\n",
       "          '-pict'\r\n",
       "               Provide pict preview.\r\n",
       "\r\n",
       "          '-tiff'\r\n",
       "               Provide a tiff preview.\r\n",
       "\r\n",
       "     '-SXSIZE,YSIZE'\r\n",
       "          Plot size in pixels for EMF, GIF, JPEG, PBM, PNG, and SVG.\r\n",
       "          For PS, EPS, PDF, and other vector formats the plot size is in\r\n",
       "          points.  This option is equivalent to changing the size of the\r\n",
       "          plot box associated with the \"paperposition\" property.  When\r\n",
       "          using the command form of the print function you must quote\r\n",
       "          the XSIZE,YSIZE option.  For example, by writing \"-S640,480\".\r\n",
       "\r\n",
       "     '-FFONTNAME'\r\n",
       "     '-FFONTNAME:SIZE'\r\n",
       "     '-F:SIZE'\r\n",
       "          Use FONTNAME and/or FONTSIZE for all text.  FONTNAME is\r\n",
       "          ignored for some devices: dxf, fig, hpgl, etc.\r\n",
       "\r\n",
       "     The filename and options can be given in any order.\r\n",
       "\r\n",
       "     Example: Print to a file using the pdf device.\r\n",
       "\r\n",
       "          figure (1);\r\n",
       "          clf ();\r\n",
       "          surf (peaks);\r\n",
       "          print figure1.pdf\r\n",
       "\r\n",
       "     Example: Print to a file using jpg device.\r\n",
       "\r\n",
       "          clf ();\r\n",
       "          surf (peaks);\r\n",
       "          print -djpg figure2.jpg\r\n",
       "\r\n",
       "     Example: Print to printer named PS_printer using ps format.\r\n",
       "\r\n",
       "          clf ();\r\n",
       "          surf (peaks);\r\n",
       "          print -dpswrite -PPS_printer\r\n",
       "\r\n",
       "     See also: saveas, hgsave, orient, figure.\r\n",
       "\r\n",
       "Additional help for built-in functions and operators is\r\n",
       "available in the online version of the manual.  Use the command\r\n",
       "'doc <topic>' to search the manual index.\r\n",
       "\r\n",
       "Help and information about Octave is also available on the WWW\r\n",
       "at http://www.octave.org and via the help@octave.org\r\n",
       "mailing list.\r\n"
      ]
     },
     "metadata": {},
     "output_type": "display_data"
    }
   ],
   "source": [
    "print?"
   ]
  },
  {
   "cell_type": "code",
   "execution_count": 12,
   "metadata": {},
   "outputs": [
    {
     "name": "stdout",
     "output_type": "stream",
     "text": [
      "c = -7.9522\n",
      "warning: print.m: fig2dev binary is not available.\n",
      "Some output formats are not available.\n",
      "warning: called from\n",
      "    __print_parse_opts__ at line 388 column 9\n",
      "    print at line 316 column 8\n"
     ]
    },
    {
     "data": {
      "image/png": "[encoded data removed]",
      "text/plain": [
       "<IPython.core.display.Image object>"
      ]
     },
     "metadata": {},
     "output_type": "display_data"
    }
   ],
   "source": [
    "% рисуем\n",
    "figure\n",
    "axes('fontsize',18)\n",
    "% contourf(x,y,aam,30) % 1 контур\n",
    "imagesc(x,y,aam) % 2 рисунок\n",
    "% imagescn(x,y,aam) % 3 без нанов\n",
    "axis xy\n",
    "c=colorbar('fontsize',28)\n",
    "xlabel('Longitude')\n",
    "%ylabel\n",
    "title('Average SST in 2013')\n",
    "grid on\n",
    "colormap(jet)\n",
    "c1=prctile(aam(:),3); % автоподбор по шкале\n",
    "c2=prctile(aam(:),97); % автоподбор по шкале\n",
    "caxis([c1 c2])% ограничение шкалы\n",
    "savname='SST_Reinolds_7D_year2013.jpeg'; % имя рисунка\n",
    "print(gcf,'-r150','-djpeg',[picdir savname]) % сохраняем рисунок"
   ]
  },
  {
   "cell_type": "code",
   "execution_count": 13,
   "metadata": {},
   "outputs": [
    {
     "data": {
      "text/plain": [
       "'shading' is a function from the file /usr/share/octave/4.2.2/m/plot/appearance/shading.m\r\n",
       "\r\n",
       " -- shading (TYPE)\r\n",
       " -- shading (HAX, TYPE)\r\n",
       "     Set the shading of patch or surface graphic objects.\r\n",
       "\r\n",
       "     Valid arguments for TYPE are\r\n",
       "\r\n",
       "     \"flat\"\r\n",
       "          Single colored patches with invisible edges.\r\n",
       "\r\n",
       "     \"faceted\"\r\n",
       "          Single colored patches with black edges.\r\n",
       "\r\n",
       "     \"interp\"\r\n",
       "          Colors between patch vertices are interpolated and the patch\r\n",
       "          edges are invisible.\r\n",
       "\r\n",
       "     If the first argument HAX is an axes handle, then plot into this\r\n",
       "     axes, rather than the current axes returned by 'gca'.\r\n",
       "\r\n",
       "     See also: fill, mesh, patch, pcolor, surf, surface, hidden,\r\n",
       "     lighting.\r\n",
       "\r\n",
       "Additional help for built-in functions and operators is\r\n",
       "available in the online version of the manual.  Use the command\r\n",
       "'doc <topic>' to search the manual index.\r\n",
       "\r\n",
       "Help and information about Octave is also available on the WWW\r\n",
       "at http://www.octave.org and via the help@octave.org\r\n",
       "mailing list.\r\n"
      ]
     },
     "metadata": {},
     "output_type": "display_data"
    }
   ],
   "source": [
    "shading?"
   ]
  },
  {
   "cell_type": "code",
   "execution_count": 14,
   "metadata": {},
   "outputs": [
    {
     "name": "stdout",
     "output_type": "stream",
     "text": [
      "c = -7.1088\n"
     ]
    },
    {
     "data": {
      "image/png": "[encoded data removed]",
      "text/plain": [
       "<IPython.core.display.Image object>"
      ]
     },
     "metadata": {},
     "output_type": "display_data"
    }
   ],
   "source": [
    "% рисуем\n",
    "figure\n",
    "axes('fontsize',18)\n",
    "% contourf(x,y,aam,30) % 1 контур\n",
    "% imagesc(x,y,aam) % 2 рисунок\n",
    "pcolor(x,y,aam) % 2 рисунок\n",
    "shading('flat')\n",
    "% imagescn(x,y,aam) % 3 без нанов\n",
    "axis xy\n",
    "c=colorbar('fontsize',28)\n",
    "xlabel('Longitude')\n",
    "%ylabel\n",
    "title('Average SST in 2013')\n",
    "grid on\n",
    "colormap(jet)\n",
    "c1=prctile(aam(:),3); % автоподбор по шкале\n",
    "c2=prctile(aam(:),97); % автоподбор по шкале\n",
    "caxis([c1 c2])% ограничение шкалы\n",
    "savname='SST_Reinolds_7D_year2013_pcolor.jpeg'; % имя рисунка\n",
    "% print(gcf,'-r150','-djpeg',[picdir savname]) % сохраняем рисунок"
   ]
  }
 ],
 "metadata": {
  "kernelspec": {
   "display_name": "Octave",
   "language": "octave",
   "name": "octave"
  },
  "language_info": {
   "file_extension": ".m",
   "help_links": [
    {
     "text": "GNU Octave",
     "url": "https://www.gnu.org/software/octave/support.html"
    },
    {
     "text": "Octave Kernel",
     "url": "https://github.com/Calysto/octave_kernel"
    },
    {
     "text": "MetaKernel Magics",
     "url": "https://github.com/calysto/metakernel/blob/master/metakernel/magics/README.md"
    }
   ],
   "mimetype": "text/x-octave",
   "name": "octave",
   "version": "4.2.2"
  }
 },
 "nbformat": 4,
 "nbformat_minor": 2
}
